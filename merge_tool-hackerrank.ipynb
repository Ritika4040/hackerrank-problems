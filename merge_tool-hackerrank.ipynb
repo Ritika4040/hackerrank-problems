{
 "cells": [
  {
   "cell_type": "code",
   "execution_count": 4,
   "id": "4466b77b-3b7d-454b-943c-a8e87a1c0f52",
   "metadata": {},
   "outputs": [
    {
     "name": "stdout",
     "output_type": "stream",
     "text": [
      "True\n"
     ]
    }
   ],
   "source": [
    "s='abcd'\n",
    "print(any(c.isalpha() for c in s))"
   ]
  },
  {
   "cell_type": "code",
   "execution_count": 5,
   "id": "eacc9d28-2855-4944-b933-43408f979c8c",
   "metadata": {},
   "outputs": [
    {
     "name": "stdout",
     "output_type": "stream",
     "text": [
      "True\n"
     ]
    }
   ],
   "source": [
    "s='abcd123'\n",
    "print(any(c.isalnum() for c in s))"
   ]
  },
  {
   "cell_type": "code",
   "execution_count": 10,
   "id": "84327a32-5dc6-44f0-95a0-8688724e492c",
   "metadata": {},
   "outputs": [
    {
     "name": "stdout",
     "output_type": "stream",
     "text": [
      "False\n"
     ]
    }
   ],
   "source": [
    "s='abcd'\n",
    "print(any(c.isdigit() for c in s))"
   ]
  },
  {
   "cell_type": "code",
   "execution_count": 11,
   "id": "13fa2cea-b702-4d33-bbe6-4bae138d0408",
   "metadata": {},
   "outputs": [
    {
     "name": "stdout",
     "output_type": "stream",
     "text": [
      "True\n"
     ]
    }
   ],
   "source": [
    "s='abcd'\n",
    "print(any(c.islower() for c in s))"
   ]
  },
  {
   "cell_type": "code",
   "execution_count": 15,
   "id": "2cfd6d0f-f4bd-4cfb-9050-1cdef5b28975",
   "metadata": {},
   "outputs": [
    {
     "name": "stdout",
     "output_type": "stream",
     "text": [
      "False\n"
     ]
    }
   ],
   "source": [
    "s='abcd'\n",
    "print(any(c.isupper() for c in s))"
   ]
  },
  {
   "cell_type": "code",
   "execution_count": 16,
   "id": "d3670f4e-d049-4b0a-8c52-7f836bc1e1f0",
   "metadata": {},
   "outputs": [
    {
     "name": "stdout",
     "output_type": "stream",
     "text": [
      "True\n"
     ]
    }
   ],
   "source": [
    "s='abCEd'\n",
    "print(any(c.isupper() for c in s))"
   ]
  },
  {
   "cell_type": "code",
   "execution_count": 17,
   "id": "b3e7801b-da95-47d7-85c0-134be5d20c1b",
   "metadata": {},
   "outputs": [
    {
     "name": "stdin",
     "output_type": "stream",
     "text": [
      " abCD123\n"
     ]
    },
    {
     "name": "stdout",
     "output_type": "stream",
     "text": [
      "True\n",
      "True\n",
      "True\n",
      "True\n",
      "True\n"
     ]
    }
   ],
   "source": [
    "if __name__ == '__main__':\n",
    "    s = input()\n",
    "print(any(c.isalnum() for c in s))\n",
    "print(any(c.isalpha() for c in s))\n",
    "print(any(c.isdigit() for c in s))\n",
    "print(any(c.islower() for c in s))\n",
    "print(any(c.isupper() for c in s))\n"
   ]
  },
  {
   "cell_type": "code",
   "execution_count": 18,
   "id": "b490c6ae-8c19-45ea-a867-0b53db528236",
   "metadata": {},
   "outputs": [
    {
     "name": "stdin",
     "output_type": "stream",
     "text": [
      " ABCD\n"
     ]
    },
    {
     "name": "stdout",
     "output_type": "stream",
     "text": [
      "True\n",
      "True\n",
      "False\n",
      "False\n",
      "True\n"
     ]
    }
   ],
   "source": [
    "if __name__ == '__main__':\n",
    "    s = input()\n",
    "print(any(c.isalnum() for c in s))\n",
    "print(any(c.isalpha() for c in s))\n",
    "print(any(c.isdigit() for c in s))\n",
    "print(any(c.islower() for c in s))\n",
    "print(any(c.isupper() for c in s))"
   ]
  },
  {
   "cell_type": "code",
   "execution_count": 26,
   "id": "9a8dc787-1a86-4009-b338-ead50a85e45b",
   "metadata": {},
   "outputs": [
    {
     "name": "stdin",
     "output_type": "stream",
     "text": [
      " abbcdd\n",
      " 2\n"
     ]
    },
    {
     "name": "stdout",
     "output_type": "stream",
     "text": [
      "ab\n",
      "bc\n",
      "d\n"
     ]
    }
   ],
   "source": [
    "def merge_the_tools(string, k):\n",
    "    # your code goes here\n",
    "    n = len(string)\n",
    "    for i in range(0, n, k):\n",
    "        substring = string[i:i+k]\n",
    "        seen = set()\n",
    "        result = []\n",
    "        for char in substring:\n",
    "            if char not in seen:\n",
    "                seen.add(char)\n",
    "                result.append(char)\n",
    "        print(''.join(result))\n",
    "\n",
    "if __name__ == '__main__':\n",
    "    string, k = input(), int(input())\n",
    "    merge_the_tools(string, k)"
   ]
  },
  {
   "cell_type": "code",
   "execution_count": 30,
   "id": "c9ea4d4c-43f6-42d9-8b8e-5f0b2b6df83c",
   "metadata": {},
   "outputs": [
    {
     "name": "stdin",
     "output_type": "stream",
     "text": [
      " ABBCDA\n",
      " 2\n"
     ]
    },
    {
     "name": "stdout",
     "output_type": "stream",
     "text": [
      "AB\n",
      "BC\n",
      "DA\n"
     ]
    }
   ],
   "source": [
    "def merge_the_tools(string, k):\n",
    "    # your code goes here\n",
    "    n = len(string)\n",
    "    for i in range(0, n, k):\n",
    "        substring = string[i:i+k]\n",
    "        seen = set()\n",
    "        result = []\n",
    "        for char in substring:\n",
    "            if char not in seen:\n",
    "                seen.add(char)\n",
    "                result.append(char)\n",
    "        print(''.join(result))\n",
    "\n",
    "if __name__ == '__main__':\n",
    "    string, k = input(), int(input())\n",
    "    merge_the_tools(string, k)"
   ]
  },
  {
   "cell_type": "code",
   "execution_count": null,
   "id": "269ec719-9054-439f-bb9d-ff31a0a3b9ae",
   "metadata": {},
   "outputs": [],
   "source": []
  }
 ],
 "metadata": {
  "kernelspec": {
   "display_name": "Python [conda env:base] *",
   "language": "python",
   "name": "conda-base-py"
  },
  "language_info": {
   "codemirror_mode": {
    "name": "ipython",
    "version": 3
   },
   "file_extension": ".py",
   "mimetype": "text/x-python",
   "name": "python",
   "nbconvert_exporter": "python",
   "pygments_lexer": "ipython3",
   "version": "3.13.5"
  }
 },
 "nbformat": 4,
 "nbformat_minor": 5
}
