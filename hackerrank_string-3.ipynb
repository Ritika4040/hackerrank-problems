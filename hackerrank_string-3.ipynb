{
 "cells": [
  {
   "cell_type": "markdown",
   "id": "17c507f3-e7ad-4a14-9736-fc45483eed72",
   "metadata": {},
   "source": [
    "string formatting"
   ]
  },
  {
   "cell_type": "code",
   "execution_count": 8,
   "id": "6e9627cf-2533-4f80-a7be-708c65f80a27",
   "metadata": {},
   "outputs": [
    {
     "name": "stdin",
     "output_type": "stream",
     "text": [
      " 17\n"
     ]
    },
    {
     "name": "stdout",
     "output_type": "stream",
     "text": [
      "    1     1     1     1\n",
      "    2     2     2    10\n",
      "    3     3     3    11\n",
      "    4     4     4   100\n",
      "    5     5     5   101\n",
      "    6     6     6   110\n",
      "    7     7     7   111\n",
      "    8    10     8  1000\n",
      "    9    11     9  1001\n",
      "   10    12     A  1010\n",
      "   11    13     B  1011\n",
      "   12    14     C  1100\n",
      "   13    15     D  1101\n",
      "   14    16     E  1110\n",
      "   15    17     F  1111\n",
      "   16    20    10 10000\n",
      "   17    21    11 10001\n"
     ]
    }
   ],
   "source": [
    "def print_formatted(number):\n",
    "    w=len(str(bin(number))[2:])\n",
    "    for i in range(1,number+1):\n",
    "        print(str(i).rjust(w,' '),oct(i)[2:].rjust(w,' '),hex(i)[2:].upper().rjust(w,' '),bin(i)[2:].rjust(w,' '))\n",
    "        \n",
    "\n",
    "if __name__ == '__main__':\n",
    "    n = int(input())\n",
    "    print_formatted(n)"
   ]
  },
  {
   "cell_type": "markdown",
   "id": "c28834d4-11bc-4f3d-be8c-8272a56561f3",
   "metadata": {},
   "source": [
    "Designer Door Mat"
   ]
  },
  {
   "cell_type": "code",
   "execution_count": 14,
   "id": "ab72c98a-838a-43db-9316-2ab3d9a1ef74",
   "metadata": {},
   "outputs": [
    {
     "name": "stdin",
     "output_type": "stream",
     "text": [
      " 9 27\n"
     ]
    },
    {
     "name": "stdout",
     "output_type": "stream",
     "text": [
      "------------.|.------------\n",
      "---------.|..|..|.---------\n",
      "------.|..|..|..|..|.------\n",
      "---.|..|..|..|..|..|..|.---\n"
     ]
    }
   ],
   "source": [
    "n,m=map(int,input().split())\n",
    "s1='.|.'\n",
    "s2='WELCOME'\n",
    "for i in range(n//2):\n",
    "    print((s1*((i*2)+1)).center(m,'-'))"
   ]
  },
  {
   "cell_type": "code",
   "execution_count": 16,
   "id": "b1acafc7-63e9-46e3-82d0-2cc4d795a7d9",
   "metadata": {},
   "outputs": [
    {
     "name": "stdin",
     "output_type": "stream",
     "text": [
      " 9 27\n"
     ]
    },
    {
     "name": "stdout",
     "output_type": "stream",
     "text": [
      "------------.|.------------\n",
      "---------.|..|..|.---------\n",
      "------.|..|..|..|..|.------\n",
      "---.|..|..|..|..|..|..|.---\n",
      "----------WELCOME----------\n"
     ]
    }
   ],
   "source": [
    "n,m=map(int,input().split())\n",
    "s1='.|.'\n",
    "s2='WELCOME'\n",
    "for i in range(n//2):\n",
    "    print((s1*((i*2)+1)).center(m,'-'))\n",
    "print(s2.center(m,'-'))"
   ]
  },
  {
   "cell_type": "code",
   "execution_count": 19,
   "id": "90a7d141-0ea0-491f-95eb-997015e66411",
   "metadata": {},
   "outputs": [
    {
     "name": "stdin",
     "output_type": "stream",
     "text": [
      " 9 27\n"
     ]
    },
    {
     "name": "stdout",
     "output_type": "stream",
     "text": [
      "------------.|.------------\n",
      "---------.|..|..|.---------\n",
      "------.|..|..|..|..|.------\n",
      "---.|..|..|..|..|..|..|.---\n",
      "----------WELCOME----------\n",
      "---.|..|..|..|..|..|..|.---\n",
      "------.|..|..|..|..|.------\n",
      "---------.|..|..|.---------\n",
      "------------.|.------------\n"
     ]
    }
   ],
   "source": [
    "n,m=map(int,input().split())\n",
    "s1='.|.'\n",
    "s2='WELCOME'\n",
    "for i in range(n//2):\n",
    "    print((s1*((i*2)+1)).center(m,'-'))\n",
    "print(s2.center(m,'-'))\n",
    "for i in range(n//2-1,-1,-1):\n",
    "    print((s1*((i*2)+1)).center(m,'-'))"
   ]
  },
  {
   "cell_type": "code",
   "execution_count": null,
   "id": "65142341-de32-4252-89dd-8354300456be",
   "metadata": {},
   "outputs": [],
   "source": []
  }
 ],
 "metadata": {
  "kernelspec": {
   "display_name": "Python [conda env:base] *",
   "language": "python",
   "name": "conda-base-py"
  },
  "language_info": {
   "codemirror_mode": {
    "name": "ipython",
    "version": 3
   },
   "file_extension": ".py",
   "mimetype": "text/x-python",
   "name": "python",
   "nbconvert_exporter": "python",
   "pygments_lexer": "ipython3",
   "version": "3.13.5"
  }
 },
 "nbformat": 4,
 "nbformat_minor": 5
}
