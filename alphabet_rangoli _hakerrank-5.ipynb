{
 "cells": [
  {
   "cell_type": "code",
   "execution_count": null,
   "id": "00c00f2f-bc7d-406f-bb25-b918b1321a40",
   "metadata": {},
   "outputs": [],
   "source": [
    "alphabet rangoli hakerrank "
   ]
  },
  {
   "cell_type": "code",
   "execution_count": 13,
   "id": "3dad8ed7-6820-4380-b825-4a72acead17c",
   "metadata": {},
   "outputs": [
    {
     "name": "stdout",
     "output_type": "stream",
     "text": [
      "['e']\n",
      "['e', 'd']\n",
      "['e', 'd', 'c']\n",
      "['e', 'd', 'c', 'b']\n",
      "['e', 'd', 'c', 'b', 'a']\n"
     ]
    }
   ],
   "source": [
    "size=5\n",
    "for i in range(size):\n",
    "        s=[]\n",
    "        s.extend( [chr(c) for c in range(96+size, 96+size-i-1, -1) ])\n",
    "        print(s)"
   ]
  },
  {
   "cell_type": "code",
   "execution_count": 34,
   "id": "d487d66c-589c-49b9-851d-5876d6013ae9",
   "metadata": {},
   "outputs": [
    {
     "name": "stdout",
     "output_type": "stream",
     "text": [
      "--------e--------\n",
      "------e-d-e------\n",
      "----e-d-c-d-e----\n",
      "--e-d-c-b-c-d-e--\n",
      "e-d-c-b-a-b-c-d-e\n"
     ]
    }
   ],
   "source": [
    "size=5\n",
    "for i in range(size):\n",
    "        s=[]\n",
    "        s.extend( [chr(c) for c in range(96+size, 96+size-i-1, -1) ])\n",
    "        s.extend( [chr(c) for c in range(96+size, 96+size-i, -1) ][::-1])\n",
    "        print(\"-\".join(s).center(4*size - 3, '-'))"
   ]
  },
  {
   "cell_type": "code",
   "execution_count": 43,
   "id": "22b74fa3-b980-41eb-8dd9-9a3fdc8795d1",
   "metadata": {},
   "outputs": [
    {
     "name": "stdout",
     "output_type": "stream",
     "text": [
      "--e-d-c-b-c-d-e--\n",
      "----e-d-c-d-e----\n",
      "------e-d-e------\n",
      "--------e--------\n"
     ]
    }
   ],
   "source": [
    "for i in range(size-2,-1,-1):\n",
    "        s=[]\n",
    "        s.extend( [chr(c) for c in range(96+size, 96+size-i-1, -1) ])\n",
    "        s.extend( [chr(c) for c in range(96+size, 96+size-i, -1) ][::-1])\n",
    "        print(\"-\".join(s).center(4*size - 3, '-'))"
   ]
  },
  {
   "cell_type": "code",
   "execution_count": 45,
   "id": "a2ed499f-de2d-46dc-99bc-f96bf6efa724",
   "metadata": {},
   "outputs": [
    {
     "name": "stdin",
     "output_type": "stream",
     "text": [
      " 3\n"
     ]
    },
    {
     "name": "stdout",
     "output_type": "stream",
     "text": [
      "----c----\n",
      "--c-b-c--\n",
      "c-b-a-b-c\n",
      "--c-b-c--\n",
      "----c----\n"
     ]
    }
   ],
   "source": [
    "def print_rangoli(size):\n",
    "    for i in range(size):\n",
    "        s=[]\n",
    "        s.extend( [chr(c) for c in range(96+size, 96+size-i-1, -1) ])\n",
    "        s.extend( [chr(c) for c in range(96+size, 96+size-i, -1) ][::-1])\n",
    "        print(\"-\".join(s).center(4*size - 3, '-'))\n",
    "        \n",
    "    for i in range(size-2,-1,-1):\n",
    "        s=[]\n",
    "        s.extend( [chr(c) for c in range(96+size, 96+size-i-1, -1) ])\n",
    "        s.extend( [chr(c) for c in range(96+size, 96+size-i, -1) ][::-1])\n",
    "        print(\"-\".join(s).center(4*size - 3, '-'))\n",
    "\n",
    "if __name__ == '__main__':\n",
    "    n = int(input())\n",
    "    print_rangoli(n)"
   ]
  },
  {
   "cell_type": "code",
   "execution_count": 46,
   "id": "9e890ce4-db35-4ea3-8ec5-566a885c8256",
   "metadata": {},
   "outputs": [
    {
     "name": "stdin",
     "output_type": "stream",
     "text": [
      " 5\n"
     ]
    },
    {
     "name": "stdout",
     "output_type": "stream",
     "text": [
      "--------e--------\n",
      "------e-d-e------\n",
      "----e-d-c-d-e----\n",
      "--e-d-c-b-c-d-e--\n",
      "e-d-c-b-a-b-c-d-e\n",
      "--e-d-c-b-c-d-e--\n",
      "----e-d-c-d-e----\n",
      "------e-d-e------\n",
      "--------e--------\n"
     ]
    }
   ],
   "source": [
    "def print_rangoli(size):\n",
    "    for i in range(size):\n",
    "        s=[]\n",
    "        s.extend( [chr(c) for c in range(96+size, 96+size-i-1, -1) ])\n",
    "        s.extend( [chr(c) for c in range(96+size, 96+size-i, -1) ][::-1])\n",
    "        print(\"-\".join(s).center(4*size - 3, '-'))\n",
    "        \n",
    "    for i in range(size-2,-1,-1):\n",
    "        s=[]\n",
    "        s.extend( [chr(c) for c in range(96+size, 96+size-i-1, -1) ])\n",
    "        s.extend( [chr(c) for c in range(96+size, 96+size-i, -1) ][::-1])\n",
    "        print(\"-\".join(s).center(4*size - 3, '-'))\n",
    "\n",
    "if __name__ == '__main__':\n",
    "    n = int(input())\n",
    "    print_rangoli(n)"
   ]
  },
  {
   "cell_type": "code",
   "execution_count": 47,
   "id": "fe419e66-f1fc-4a44-823b-9181e4a0118f",
   "metadata": {},
   "outputs": [
    {
     "name": "stdin",
     "output_type": "stream",
     "text": [
      " 10\n"
     ]
    },
    {
     "name": "stdout",
     "output_type": "stream",
     "text": [
      "------------------j------------------\n",
      "----------------j-i-j----------------\n",
      "--------------j-i-h-i-j--------------\n",
      "------------j-i-h-g-h-i-j------------\n",
      "----------j-i-h-g-f-g-h-i-j----------\n",
      "--------j-i-h-g-f-e-f-g-h-i-j--------\n",
      "------j-i-h-g-f-e-d-e-f-g-h-i-j------\n",
      "----j-i-h-g-f-e-d-c-d-e-f-g-h-i-j----\n",
      "--j-i-h-g-f-e-d-c-b-c-d-e-f-g-h-i-j--\n",
      "j-i-h-g-f-e-d-c-b-a-b-c-d-e-f-g-h-i-j\n",
      "--j-i-h-g-f-e-d-c-b-c-d-e-f-g-h-i-j--\n",
      "----j-i-h-g-f-e-d-c-d-e-f-g-h-i-j----\n",
      "------j-i-h-g-f-e-d-e-f-g-h-i-j------\n",
      "--------j-i-h-g-f-e-f-g-h-i-j--------\n",
      "----------j-i-h-g-f-g-h-i-j----------\n",
      "------------j-i-h-g-h-i-j------------\n",
      "--------------j-i-h-i-j--------------\n",
      "----------------j-i-j----------------\n",
      "------------------j------------------\n"
     ]
    }
   ],
   "source": [
    "def print_rangoli(size):\n",
    "    for i in range(size):\n",
    "        s=[]\n",
    "        s.extend( [chr(c) for c in range(96+size, 96+size-i-1, -1) ])\n",
    "        s.extend( [chr(c) for c in range(96+size, 96+size-i, -1) ][::-1])\n",
    "        print(\"-\".join(s).center(4*size - 3, '-'))\n",
    "        \n",
    "    for i in range(size-2,-1,-1):\n",
    "        s=[]\n",
    "        s.extend( [chr(c) for c in range(96+size, 96+size-i-1, -1) ])\n",
    "        s.extend( [chr(c) for c in range(96+size, 96+size-i, -1) ][::-1])\n",
    "        print(\"-\".join(s).center(4*size - 3, '-'))# your code goes here\n",
    "\n",
    "if __name__ == '__main__':\n",
    "    n = int(input())\n",
    "    print_rangoli(n)\n",
    "    "
   ]
  },
  {
   "cell_type": "code",
   "execution_count": 48,
   "id": "f98aa6f8-e22b-445b-b674-85f8a1929f0f",
   "metadata": {},
   "outputs": [
    {
     "name": "stdin",
     "output_type": "stream",
     "text": [
      " 18\n"
     ]
    },
    {
     "name": "stdout",
     "output_type": "stream",
     "text": [
      "----------------------------------r----------------------------------\n",
      "--------------------------------r-q-r--------------------------------\n",
      "------------------------------r-q-p-q-r------------------------------\n",
      "----------------------------r-q-p-o-p-q-r----------------------------\n",
      "--------------------------r-q-p-o-n-o-p-q-r--------------------------\n",
      "------------------------r-q-p-o-n-m-n-o-p-q-r------------------------\n",
      "----------------------r-q-p-o-n-m-l-m-n-o-p-q-r----------------------\n",
      "--------------------r-q-p-o-n-m-l-k-l-m-n-o-p-q-r--------------------\n",
      "------------------r-q-p-o-n-m-l-k-j-k-l-m-n-o-p-q-r------------------\n",
      "----------------r-q-p-o-n-m-l-k-j-i-j-k-l-m-n-o-p-q-r----------------\n",
      "--------------r-q-p-o-n-m-l-k-j-i-h-i-j-k-l-m-n-o-p-q-r--------------\n",
      "------------r-q-p-o-n-m-l-k-j-i-h-g-h-i-j-k-l-m-n-o-p-q-r------------\n",
      "----------r-q-p-o-n-m-l-k-j-i-h-g-f-g-h-i-j-k-l-m-n-o-p-q-r----------\n",
      "--------r-q-p-o-n-m-l-k-j-i-h-g-f-e-f-g-h-i-j-k-l-m-n-o-p-q-r--------\n",
      "------r-q-p-o-n-m-l-k-j-i-h-g-f-e-d-e-f-g-h-i-j-k-l-m-n-o-p-q-r------\n",
      "----r-q-p-o-n-m-l-k-j-i-h-g-f-e-d-c-d-e-f-g-h-i-j-k-l-m-n-o-p-q-r----\n",
      "--r-q-p-o-n-m-l-k-j-i-h-g-f-e-d-c-b-c-d-e-f-g-h-i-j-k-l-m-n-o-p-q-r--\n",
      "r-q-p-o-n-m-l-k-j-i-h-g-f-e-d-c-b-a-b-c-d-e-f-g-h-i-j-k-l-m-n-o-p-q-r\n",
      "--r-q-p-o-n-m-l-k-j-i-h-g-f-e-d-c-b-c-d-e-f-g-h-i-j-k-l-m-n-o-p-q-r--\n",
      "----r-q-p-o-n-m-l-k-j-i-h-g-f-e-d-c-d-e-f-g-h-i-j-k-l-m-n-o-p-q-r----\n",
      "------r-q-p-o-n-m-l-k-j-i-h-g-f-e-d-e-f-g-h-i-j-k-l-m-n-o-p-q-r------\n",
      "--------r-q-p-o-n-m-l-k-j-i-h-g-f-e-f-g-h-i-j-k-l-m-n-o-p-q-r--------\n",
      "----------r-q-p-o-n-m-l-k-j-i-h-g-f-g-h-i-j-k-l-m-n-o-p-q-r----------\n",
      "------------r-q-p-o-n-m-l-k-j-i-h-g-h-i-j-k-l-m-n-o-p-q-r------------\n",
      "--------------r-q-p-o-n-m-l-k-j-i-h-i-j-k-l-m-n-o-p-q-r--------------\n",
      "----------------r-q-p-o-n-m-l-k-j-i-j-k-l-m-n-o-p-q-r----------------\n",
      "------------------r-q-p-o-n-m-l-k-j-k-l-m-n-o-p-q-r------------------\n",
      "--------------------r-q-p-o-n-m-l-k-l-m-n-o-p-q-r--------------------\n",
      "----------------------r-q-p-o-n-m-l-m-n-o-p-q-r----------------------\n",
      "------------------------r-q-p-o-n-m-n-o-p-q-r------------------------\n",
      "--------------------------r-q-p-o-n-o-p-q-r--------------------------\n",
      "----------------------------r-q-p-o-p-q-r----------------------------\n",
      "------------------------------r-q-p-q-r------------------------------\n",
      "--------------------------------r-q-r--------------------------------\n",
      "----------------------------------r----------------------------------\n"
     ]
    }
   ],
   "source": [
    "def print_rangoli(size):\n",
    "    for i in range(size):\n",
    "        s=[]\n",
    "        s.extend( [chr(c) for c in range(96+size, 96+size-i-1, -1) ])\n",
    "        s.extend( [chr(c) for c in range(96+size, 96+size-i, -1) ][::-1])\n",
    "        print(\"-\".join(s).center(4*size - 3, '-'))\n",
    "        \n",
    "    for i in range(size-2,-1,-1):\n",
    "        s=[]\n",
    "        s.extend( [chr(c) for c in range(96+size, 96+size-i-1, -1) ])\n",
    "        s.extend( [chr(c) for c in range(96+size, 96+size-i, -1) ][::-1])\n",
    "        print(\"-\".join(s).center(4*size - 3, '-'))# your code goes here\n",
    "\n",
    "if __name__ == '__main__':\n",
    "    n = int(input())\n",
    "    print_rangoli(n)"
   ]
  },
  {
   "cell_type": "code",
   "execution_count": 5,
   "id": "609d08bd-2fa5-4b62-b88c-7557ebc84c90",
   "metadata": {},
   "outputs": [
    {
     "name": "stdin",
     "output_type": "stream",
     "text": [
      " 22\n"
     ]
    },
    {
     "name": "stdout",
     "output_type": "stream",
     "text": [
      "------------------------------------------v------------------------------------------\n",
      "----------------------------------------v-u-v----------------------------------------\n",
      "--------------------------------------v-u-t-u-v--------------------------------------\n",
      "------------------------------------v-u-t-s-t-u-v------------------------------------\n",
      "----------------------------------v-u-t-s-r-s-t-u-v----------------------------------\n",
      "--------------------------------v-u-t-s-r-q-r-s-t-u-v--------------------------------\n",
      "------------------------------v-u-t-s-r-q-p-q-r-s-t-u-v------------------------------\n",
      "----------------------------v-u-t-s-r-q-p-o-p-q-r-s-t-u-v----------------------------\n",
      "--------------------------v-u-t-s-r-q-p-o-n-o-p-q-r-s-t-u-v--------------------------\n",
      "------------------------v-u-t-s-r-q-p-o-n-m-n-o-p-q-r-s-t-u-v------------------------\n",
      "----------------------v-u-t-s-r-q-p-o-n-m-l-m-n-o-p-q-r-s-t-u-v----------------------\n",
      "--------------------v-u-t-s-r-q-p-o-n-m-l-k-l-m-n-o-p-q-r-s-t-u-v--------------------\n",
      "------------------v-u-t-s-r-q-p-o-n-m-l-k-j-k-l-m-n-o-p-q-r-s-t-u-v------------------\n",
      "----------------v-u-t-s-r-q-p-o-n-m-l-k-j-i-j-k-l-m-n-o-p-q-r-s-t-u-v----------------\n",
      "--------------v-u-t-s-r-q-p-o-n-m-l-k-j-i-h-i-j-k-l-m-n-o-p-q-r-s-t-u-v--------------\n",
      "------------v-u-t-s-r-q-p-o-n-m-l-k-j-i-h-g-h-i-j-k-l-m-n-o-p-q-r-s-t-u-v------------\n",
      "----------v-u-t-s-r-q-p-o-n-m-l-k-j-i-h-g-f-g-h-i-j-k-l-m-n-o-p-q-r-s-t-u-v----------\n",
      "--------v-u-t-s-r-q-p-o-n-m-l-k-j-i-h-g-f-e-f-g-h-i-j-k-l-m-n-o-p-q-r-s-t-u-v--------\n",
      "------v-u-t-s-r-q-p-o-n-m-l-k-j-i-h-g-f-e-d-e-f-g-h-i-j-k-l-m-n-o-p-q-r-s-t-u-v------\n",
      "----v-u-t-s-r-q-p-o-n-m-l-k-j-i-h-g-f-e-d-c-d-e-f-g-h-i-j-k-l-m-n-o-p-q-r-s-t-u-v----\n",
      "--v-u-t-s-r-q-p-o-n-m-l-k-j-i-h-g-f-e-d-c-b-c-d-e-f-g-h-i-j-k-l-m-n-o-p-q-r-s-t-u-v--\n",
      "v-u-t-s-r-q-p-o-n-m-l-k-j-i-h-g-f-e-d-c-b-a-b-c-d-e-f-g-h-i-j-k-l-m-n-o-p-q-r-s-t-u-v\n",
      "--v-u-t-s-r-q-p-o-n-m-l-k-j-i-h-g-f-e-d-c-b-c-d-e-f-g-h-i-j-k-l-m-n-o-p-q-r-s-t-u-v--\n",
      "----v-u-t-s-r-q-p-o-n-m-l-k-j-i-h-g-f-e-d-c-d-e-f-g-h-i-j-k-l-m-n-o-p-q-r-s-t-u-v----\n",
      "------v-u-t-s-r-q-p-o-n-m-l-k-j-i-h-g-f-e-d-e-f-g-h-i-j-k-l-m-n-o-p-q-r-s-t-u-v------\n",
      "--------v-u-t-s-r-q-p-o-n-m-l-k-j-i-h-g-f-e-f-g-h-i-j-k-l-m-n-o-p-q-r-s-t-u-v--------\n",
      "----------v-u-t-s-r-q-p-o-n-m-l-k-j-i-h-g-f-g-h-i-j-k-l-m-n-o-p-q-r-s-t-u-v----------\n",
      "------------v-u-t-s-r-q-p-o-n-m-l-k-j-i-h-g-h-i-j-k-l-m-n-o-p-q-r-s-t-u-v------------\n",
      "--------------v-u-t-s-r-q-p-o-n-m-l-k-j-i-h-i-j-k-l-m-n-o-p-q-r-s-t-u-v--------------\n",
      "----------------v-u-t-s-r-q-p-o-n-m-l-k-j-i-j-k-l-m-n-o-p-q-r-s-t-u-v----------------\n",
      "------------------v-u-t-s-r-q-p-o-n-m-l-k-j-k-l-m-n-o-p-q-r-s-t-u-v------------------\n",
      "--------------------v-u-t-s-r-q-p-o-n-m-l-k-l-m-n-o-p-q-r-s-t-u-v--------------------\n",
      "----------------------v-u-t-s-r-q-p-o-n-m-l-m-n-o-p-q-r-s-t-u-v----------------------\n",
      "------------------------v-u-t-s-r-q-p-o-n-m-n-o-p-q-r-s-t-u-v------------------------\n",
      "--------------------------v-u-t-s-r-q-p-o-n-o-p-q-r-s-t-u-v--------------------------\n",
      "----------------------------v-u-t-s-r-q-p-o-p-q-r-s-t-u-v----------------------------\n",
      "------------------------------v-u-t-s-r-q-p-q-r-s-t-u-v------------------------------\n",
      "--------------------------------v-u-t-s-r-q-r-s-t-u-v--------------------------------\n",
      "----------------------------------v-u-t-s-r-s-t-u-v----------------------------------\n",
      "------------------------------------v-u-t-s-t-u-v------------------------------------\n",
      "--------------------------------------v-u-t-u-v--------------------------------------\n",
      "----------------------------------------v-u-v----------------------------------------\n",
      "------------------------------------------v------------------------------------------\n"
     ]
    }
   ],
   "source": [
    "def print_rangoli(size):\n",
    "    for i in range(size):\n",
    "        s=[]\n",
    "        s.extend( [chr(c) for c in range(96+size, 96+size-i-1, -1) ])\n",
    "        s.extend( [chr(c) for c in range(96+size, 96+size-i, -1) ][::-1])\n",
    "        print(\"-\".join(s).center(4*size - 3, '-'))\n",
    "        \n",
    "    for i in range(size-2,-1,-1):\n",
    "        s=[]\n",
    "        s.extend( [chr(c) for c in range(96+size, 96+size-i-1, -1) ])\n",
    "        s.extend( [chr(c) for c in range(96+size, 96+size-i, -1) ][::-1])\n",
    "        print(\"-\".join(s).center(4*size - 3, '-'))# your code goes here\n",
    "\n",
    "if __name__ == '__main__':\n",
    "    n = int(input())\n",
    "    print_rangoli(n)"
   ]
  },
  {
   "cell_type": "code",
   "execution_count": 50,
   "id": "26882193-a601-4413-af83-f1a4f8267e38",
   "metadata": {},
   "outputs": [
    {
     "name": "stdin",
     "output_type": "stream",
     "text": [
      " 20\n"
     ]
    },
    {
     "name": "stdout",
     "output_type": "stream",
     "text": [
      "--------------------------------------t--------------------------------------\n",
      "------------------------------------t-s-t------------------------------------\n",
      "----------------------------------t-s-r-s-t----------------------------------\n",
      "--------------------------------t-s-r-q-r-s-t--------------------------------\n",
      "------------------------------t-s-r-q-p-q-r-s-t------------------------------\n",
      "----------------------------t-s-r-q-p-o-p-q-r-s-t----------------------------\n",
      "--------------------------t-s-r-q-p-o-n-o-p-q-r-s-t--------------------------\n",
      "------------------------t-s-r-q-p-o-n-m-n-o-p-q-r-s-t------------------------\n",
      "----------------------t-s-r-q-p-o-n-m-l-m-n-o-p-q-r-s-t----------------------\n",
      "--------------------t-s-r-q-p-o-n-m-l-k-l-m-n-o-p-q-r-s-t--------------------\n",
      "------------------t-s-r-q-p-o-n-m-l-k-j-k-l-m-n-o-p-q-r-s-t------------------\n",
      "----------------t-s-r-q-p-o-n-m-l-k-j-i-j-k-l-m-n-o-p-q-r-s-t----------------\n",
      "--------------t-s-r-q-p-o-n-m-l-k-j-i-h-i-j-k-l-m-n-o-p-q-r-s-t--------------\n",
      "------------t-s-r-q-p-o-n-m-l-k-j-i-h-g-h-i-j-k-l-m-n-o-p-q-r-s-t------------\n",
      "----------t-s-r-q-p-o-n-m-l-k-j-i-h-g-f-g-h-i-j-k-l-m-n-o-p-q-r-s-t----------\n",
      "--------t-s-r-q-p-o-n-m-l-k-j-i-h-g-f-e-f-g-h-i-j-k-l-m-n-o-p-q-r-s-t--------\n",
      "------t-s-r-q-p-o-n-m-l-k-j-i-h-g-f-e-d-e-f-g-h-i-j-k-l-m-n-o-p-q-r-s-t------\n",
      "----t-s-r-q-p-o-n-m-l-k-j-i-h-g-f-e-d-c-d-e-f-g-h-i-j-k-l-m-n-o-p-q-r-s-t----\n",
      "--t-s-r-q-p-o-n-m-l-k-j-i-h-g-f-e-d-c-b-c-d-e-f-g-h-i-j-k-l-m-n-o-p-q-r-s-t--\n",
      "t-s-r-q-p-o-n-m-l-k-j-i-h-g-f-e-d-c-b-a-b-c-d-e-f-g-h-i-j-k-l-m-n-o-p-q-r-s-t\n",
      "--t-s-r-q-p-o-n-m-l-k-j-i-h-g-f-e-d-c-b-c-d-e-f-g-h-i-j-k-l-m-n-o-p-q-r-s-t--\n",
      "----t-s-r-q-p-o-n-m-l-k-j-i-h-g-f-e-d-c-d-e-f-g-h-i-j-k-l-m-n-o-p-q-r-s-t----\n",
      "------t-s-r-q-p-o-n-m-l-k-j-i-h-g-f-e-d-e-f-g-h-i-j-k-l-m-n-o-p-q-r-s-t------\n",
      "--------t-s-r-q-p-o-n-m-l-k-j-i-h-g-f-e-f-g-h-i-j-k-l-m-n-o-p-q-r-s-t--------\n",
      "----------t-s-r-q-p-o-n-m-l-k-j-i-h-g-f-g-h-i-j-k-l-m-n-o-p-q-r-s-t----------\n",
      "------------t-s-r-q-p-o-n-m-l-k-j-i-h-g-h-i-j-k-l-m-n-o-p-q-r-s-t------------\n",
      "--------------t-s-r-q-p-o-n-m-l-k-j-i-h-i-j-k-l-m-n-o-p-q-r-s-t--------------\n",
      "----------------t-s-r-q-p-o-n-m-l-k-j-i-j-k-l-m-n-o-p-q-r-s-t----------------\n",
      "------------------t-s-r-q-p-o-n-m-l-k-j-k-l-m-n-o-p-q-r-s-t------------------\n",
      "--------------------t-s-r-q-p-o-n-m-l-k-l-m-n-o-p-q-r-s-t--------------------\n",
      "----------------------t-s-r-q-p-o-n-m-l-m-n-o-p-q-r-s-t----------------------\n",
      "------------------------t-s-r-q-p-o-n-m-n-o-p-q-r-s-t------------------------\n",
      "--------------------------t-s-r-q-p-o-n-o-p-q-r-s-t--------------------------\n",
      "----------------------------t-s-r-q-p-o-p-q-r-s-t----------------------------\n",
      "------------------------------t-s-r-q-p-q-r-s-t------------------------------\n",
      "--------------------------------t-s-r-q-r-s-t--------------------------------\n",
      "----------------------------------t-s-r-s-t----------------------------------\n",
      "------------------------------------t-s-t------------------------------------\n",
      "--------------------------------------t--------------------------------------\n"
     ]
    }
   ],
   "source": [
    "def print_rangoli(size):\n",
    "    for i in range(size):\n",
    "        s=[]\n",
    "        s.extend( [chr(c) for c in range(96+size, 96+size-i-1, -1) ])\n",
    "        s.extend( [chr(c) for c in range(96+size, 96+size-i, -1) ][::-1])\n",
    "        print(\"-\".join(s).center(4*size - 3, '-'))\n",
    "        \n",
    "    for i in range(size-2,-1,-1):\n",
    "        s=[]\n",
    "        s.extend( [chr(c) for c in range(96+size, 96+size-i-1, -1) ])\n",
    "        s.extend( [chr(c) for c in range(96+size, 96+size-i, -1) ][::-1])\n",
    "        print(\"-\".join(s).center(4*size - 3, '-'))\n",
    "\n",
    "if __name__ == '__main__':\n",
    "    n = int(input())\n",
    "    print_rangoli(n)"
   ]
  },
  {
   "cell_type": "code",
   "execution_count": 51,
   "id": "c6770dbe-9fff-4c2d-9306-a8720d59954c",
   "metadata": {},
   "outputs": [
    {
     "name": "stdin",
     "output_type": "stream",
     "text": [
      " 7\n"
     ]
    },
    {
     "name": "stdout",
     "output_type": "stream",
     "text": [
      "------------g------------\n",
      "----------g-f-g----------\n",
      "--------g-f-e-f-g--------\n",
      "------g-f-e-d-e-f-g------\n",
      "----g-f-e-d-c-d-e-f-g----\n",
      "--g-f-e-d-c-b-c-d-e-f-g--\n",
      "g-f-e-d-c-b-a-b-c-d-e-f-g\n",
      "--g-f-e-d-c-b-c-d-e-f-g--\n",
      "----g-f-e-d-c-d-e-f-g----\n",
      "------g-f-e-d-e-f-g------\n",
      "--------g-f-e-f-g--------\n",
      "----------g-f-g----------\n",
      "------------g------------\n"
     ]
    }
   ],
   "source": [
    "def print_rangoli(size):\n",
    "    for i in range(size):\n",
    "        s=[]\n",
    "        s.extend( [chr(c) for c in range(96+size, 96+size-i-1, -1) ])\n",
    "        s.extend( [chr(c) for c in range(96+size, 96+size-i, -1) ][::-1])\n",
    "        print(\"-\".join(s).center(4*size - 3, '-'))\n",
    "        \n",
    "    for i in range(size-2,-1,-1):\n",
    "        s=[]\n",
    "        s.extend( [chr(c) for c in range(96+size, 96+size-i-1, -1) ])\n",
    "        s.extend( [chr(c) for c in range(96+size, 96+size-i, -1) ][::-1])\n",
    "        print(\"-\".join(s).center(4*size - 3, '-'))\n",
    "\n",
    "if __name__ == '__main__':\n",
    "    n = int(input())\n",
    "    print_rangoli(n)"
   ]
  },
  {
   "cell_type": "code",
   "execution_count": null,
   "id": "a897b219-776e-4b01-85bd-0e3278e08751",
   "metadata": {},
   "outputs": [],
   "source": []
  }
 ],
 "metadata": {
  "kernelspec": {
   "display_name": "Python [conda env:base] *",
   "language": "python",
   "name": "conda-base-py"
  },
  "language_info": {
   "codemirror_mode": {
    "name": "ipython",
    "version": 3
   },
   "file_extension": ".py",
   "mimetype": "text/x-python",
   "name": "python",
   "nbconvert_exporter": "python",
   "pygments_lexer": "ipython3",
   "version": "3.13.5"
  }
 },
 "nbformat": 4,
 "nbformat_minor": 5
}
