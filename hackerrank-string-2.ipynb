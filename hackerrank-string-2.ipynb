{
 "cells": [
  {
   "cell_type": "markdown",
   "id": "02525ac4-b093-4d50-b1a6-92c37d641b64",
   "metadata": {},
   "source": [
    "hackerrank"
   ]
  },
  {
   "cell_type": "code",
   "execution_count": 1,
   "id": "86447caa-7fef-4dfb-b01e-0687d03d8e50",
   "metadata": {},
   "outputs": [
    {
     "name": "stdin",
     "output_type": "stream",
     "text": [
      " banana\n"
     ]
    },
    {
     "name": "stdout",
     "output_type": "stream",
     "text": [
      "Stuart 21\n"
     ]
    }
   ],
   "source": [
    "def minion_game(string):\n",
    "    \n",
    "    v = 'AEIOU'\n",
    "    count_v = 0\n",
    "    count_c = 0\n",
    "    n = len(string)\n",
    "\n",
    "    for i in range(n):\n",
    "        if string[i] in v:\n",
    "            count_v += n - i\n",
    "        else:\n",
    "            count_c += n - i\n",
    "\n",
    "    if count_v > count_c:\n",
    "        print(\"Kevin\", count_v)\n",
    "    elif count_c > count_v:\n",
    "        print(\"Stuart\", count_c)\n",
    "    else:\n",
    "        print(\"Draw\")\n",
    "\n",
    "    \n",
    "    \n",
    "if __name__ == '__main__':\n",
    "    s = input()\n",
    "    minion_game(s)"
   ]
  },
  {
   "cell_type": "code",
   "execution_count": 1,
   "id": "867808ea-48a6-47b7-b043-b09c67b2daa4",
   "metadata": {},
   "outputs": [
    {
     "name": "stdin",
     "output_type": "stream",
     "text": [
      " this is a string\n"
     ]
    },
    {
     "name": "stdout",
     "output_type": "stream",
     "text": [
      "this-is-a-string\n"
     ]
    }
   ],
   "source": [
    "def split_and_join(line):\n",
    "    return \"-\".join(line.split(\" \"))\n",
    "\n",
    "if __name__ == '__main__':\n",
    "    line = input()\n",
    "    result = split_and_join(line)\n",
    "    print(result)"
   ]
  },
  {
   "cell_type": "code",
   "execution_count": 2,
   "id": "0c45e57c-eaa4-4837-928d-e6eeede71aa5",
   "metadata": {},
   "outputs": [
    {
     "name": "stdin",
     "output_type": "stream",
     "text": [
      " ABCDCDA\n",
      " CDA\n"
     ]
    },
    {
     "name": "stdout",
     "output_type": "stream",
     "text": [
      "1\n"
     ]
    }
   ],
   "source": [
    "def count_substring(string, sub_string):\n",
    "    count = 0\n",
    "    for i in range(len(string) - len(sub_string) + 1):\n",
    "        if string[i:i+len(sub_string)] == sub_string:\n",
    "            count += 1\n",
    "    return count\n",
    "\n",
    "if __name__ == '__main__':\n",
    "    string = input().strip()\n",
    "    sub_string = input().strip()\n",
    "    \n",
    "    count = count_substring(string, sub_string)\n",
    "    print(count)"
   ]
  },
  {
   "cell_type": "code",
   "execution_count": null,
   "id": "c00663ad-3aca-4472-b965-489449e79f47",
   "metadata": {},
   "outputs": [],
   "source": []
  }
 ],
 "metadata": {
  "kernelspec": {
   "display_name": "Python [conda env:base] *",
   "language": "python",
   "name": "conda-base-py"
  },
  "language_info": {
   "codemirror_mode": {
    "name": "ipython",
    "version": 3
   },
   "file_extension": ".py",
   "mimetype": "text/x-python",
   "name": "python",
   "nbconvert_exporter": "python",
   "pygments_lexer": "ipython3",
   "version": "3.13.5"
  }
 },
 "nbformat": 4,
 "nbformat_minor": 5
}
