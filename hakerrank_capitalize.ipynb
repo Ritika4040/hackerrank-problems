{
 "cells": [
  {
   "cell_type": "markdown",
   "id": "55877ddf-2604-41ce-bbf0-fff59c746ba9",
   "metadata": {},
   "source": [
    "hakerrank capitalize\n"
   ]
  },
  {
   "cell_type": "code",
   "execution_count": 7,
   "id": "648d9c9e-fea6-4a9b-8813-b6c1c5face6e",
   "metadata": {},
   "outputs": [
    {
     "name": "stdout",
     "output_type": "stream",
     "text": [
      "Hello World\n"
     ]
    }
   ],
   "source": [
    "s= \"hello world\"\n",
    "s=s.split(\" \")\n",
    "s=[i.capitalize() for i in s]\n",
    "s=\" \".join(s)\n",
    "print(s)"
   ]
  },
  {
   "cell_type": "code",
   "execution_count": 11,
   "id": "9a3d1ee9-c16f-4361-905d-612ecf1a3d40",
   "metadata": {},
   "outputs": [
    {
     "name": "stdout",
     "output_type": "stream",
     "text": [
      "Ritika Dwivedi\n"
     ]
    }
   ],
   "source": [
    "s= \"ritika dwivedi\"\n",
    "s=s.split(\" \")\n",
    "s=[i.capitalize() for i in s]\n",
    "s=\" \".join(s)\n",
    "print(s)"
   ]
  },
  {
   "cell_type": "code",
   "execution_count": 13,
   "id": "c1e8cb71-1004-48d1-b0fc-795fd49c73c1",
   "metadata": {},
   "outputs": [
    {
     "name": "stdin",
     "output_type": "stream",
     "text": [
      " albert rose\n"
     ]
    },
    {
     "name": "stdout",
     "output_type": "stream",
     "text": [
      "Albert Rose\n"
     ]
    }
   ],
   "source": [
    "s= input()\n",
    "s=s.split(\" \")\n",
    "s=[i.capitalize() for i in s]\n",
    "s=\" \".join(s)\n",
    "print(s)"
   ]
  },
  {
   "cell_type": "code",
   "execution_count": null,
   "id": "5aace6b6-6249-47f3-bcc2-918ce6f8c639",
   "metadata": {},
   "outputs": [],
   "source": []
  }
 ],
 "metadata": {
  "kernelspec": {
   "display_name": "Python [conda env:base] *",
   "language": "python",
   "name": "conda-base-py"
  },
  "language_info": {
   "codemirror_mode": {
    "name": "ipython",
    "version": 3
   },
   "file_extension": ".py",
   "mimetype": "text/x-python",
   "name": "python",
   "nbconvert_exporter": "python",
   "pygments_lexer": "ipython3",
   "version": "3.13.5"
  }
 },
 "nbformat": 4,
 "nbformat_minor": 5
}
