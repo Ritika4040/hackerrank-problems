{
 "cells": [
  {
   "cell_type": "markdown",
   "id": "b5c89ec6-6570-49f0-9f36-bd7c4e336de6",
   "metadata": {},
   "source": [
    "hackerrank sets"
   ]
  },
  {
   "cell_type": "code",
   "execution_count": 2,
   "id": "caaed70a-f4e6-4306-bcdf-9f468b935d82",
   "metadata": {},
   "outputs": [
    {
     "name": "stdin",
     "output_type": "stream",
     "text": [
      " 10\n",
      " 161 182 161 154 176 170 167 171 170 174\n"
     ]
    },
    {
     "name": "stdout",
     "output_type": "stream",
     "text": [
      "169.375\n"
     ]
    }
   ],
   "source": [
    "def average(array):\n",
    "\n",
    "    s=set(array)\n",
    "    avg = sum(s) / len(s)\n",
    "    return round(avg, 3)\n",
    "\n",
    "if __name__ == '__main__':\n",
    "    n = int(input())\n",
    "    arr = list(map(int, input().split()))\n",
    "    result = average(arr)\n",
    "    print(result)"
   ]
  },
  {
   "cell_type": "code",
   "execution_count": 4,
   "id": "9b7026b2-f771-4df6-a928-6a38db7c2974",
   "metadata": {},
   "outputs": [
    {
     "name": "stdin",
     "output_type": "stream",
     "text": [
      " 4\n",
      " 10 9 5 3\n",
      " 4\n",
      " 9 8 10 2\n"
     ]
    },
    {
     "name": "stdout",
     "output_type": "stream",
     "text": [
      "2\n",
      "3\n",
      "5\n",
      "8\n"
     ]
    }
   ],
   "source": [
    "m = int(input())\n",
    "a = set(map(int, input().split()))\n",
    "n = int(input())\n",
    "b = set(map(int, input().split()))\n",
    "sym_diff = a ^ b\n",
    "# Sort and print\n",
    "for num in sorted(sym_diff):\n",
    "    print(num)\n",
    "\n"
   ]
  },
  {
   "cell_type": "code",
   "execution_count": 5,
   "id": "7655812e-1b25-4c26-aa44-a4df29e2d357",
   "metadata": {},
   "outputs": [
    {
     "name": "stdin",
     "output_type": "stream",
     "text": [
      " 3 2\n",
      " 1 5 3\n",
      " 31\n",
      " 5 7\n"
     ]
    },
    {
     "name": "stdout",
     "output_type": "stream",
     "text": [
      "-1\n"
     ]
    }
   ],
   "source": [
    "n, m = map(int, input().split())\n",
    "arr = list(map(int, input().split()))\n",
    "A = set(map(int, input().split()))\n",
    "B = set(map(int, input().split()))\n",
    "# Calculate happiness\n",
    "happiness = 0\n",
    "for num in arr:\n",
    "    if num in A:\n",
    "        happiness += 1\n",
    "    elif num in B:\n",
    "        happiness -= 1\n",
    "print(happiness)\n"
   ]
  },
  {
   "cell_type": "code",
   "execution_count": 6,
   "id": "f9bec818-ff2c-4f6d-8c6b-53047ba941e4",
   "metadata": {},
   "outputs": [
    {
     "name": "stdin",
     "output_type": "stream",
     "text": [
      " 3 2\n",
      " 1 5 3\n",
      " 3 1\n",
      " 5 7\n"
     ]
    },
    {
     "name": "stdout",
     "output_type": "stream",
     "text": [
      "1\n"
     ]
    }
   ],
   "source": [
    "n, m = map(int, input().split())\n",
    "arr = list(map(int, input().split()))\n",
    "A = set(map(int, input().split()))\n",
    "B = set(map(int, input().split()))\n",
    "# Calculate happiness\n",
    "happiness = 0\n",
    "for num in arr:\n",
    "    if num in A:\n",
    "        happiness += 1\n",
    "    elif num in B:\n",
    "        happiness -= 1\n",
    "print(happiness)\n"
   ]
  },
  {
   "cell_type": "code",
   "execution_count": 8,
   "id": "aed570d8-08de-41bf-9e47-733ac05c2e50",
   "metadata": {},
   "outputs": [
    {
     "name": "stdin",
     "output_type": "stream",
     "text": [
      " 7\n",
      " UK China USA France New Zealand UK France \n",
      " china\n",
      " usa\n",
      " france\n",
      " uk\n",
      " china\n",
      " usa\n"
     ]
    },
    {
     "name": "stdout",
     "output_type": "stream",
     "text": [
      "5\n"
     ]
    }
   ],
   "source": [
    "n = int(input())\n",
    "# Initialize empty set\n",
    "stamps = set()\n",
    "# Add each stamp\n",
    "for _ in range(n):\n",
    "    stamp = input().strip()\n",
    "    stamps.add(stamp)\n",
    "# Print unique count\n",
    "print(len(stamps))\n"
   ]
  },
  {
   "cell_type": "code",
   "execution_count": null,
   "id": "f683252f-abb2-44bd-9518-28bddd912352",
   "metadata": {},
   "outputs": [],
   "source": []
  }
 ],
 "metadata": {
  "kernelspec": {
   "display_name": "Python [conda env:base] *",
   "language": "python",
   "name": "conda-base-py"
  },
  "language_info": {
   "codemirror_mode": {
    "name": "ipython",
    "version": 3
   },
   "file_extension": ".py",
   "mimetype": "text/x-python",
   "name": "python",
   "nbconvert_exporter": "python",
   "pygments_lexer": "ipython3",
   "version": "3.13.5"
  }
 },
 "nbformat": 4,
 "nbformat_minor": 5
}
